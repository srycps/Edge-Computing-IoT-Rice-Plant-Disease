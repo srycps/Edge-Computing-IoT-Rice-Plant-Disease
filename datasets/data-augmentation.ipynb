{
  "cells": [
    {
      "cell_type": "markdown",
      "metadata": {
        "id": "TT0vnnuR8d0p"
      },
      "source": [
        "## **1. Install and Set Up Dependencies**"
      ]
    },
    {
      "cell_type": "code",
      "execution_count": null,
      "metadata": {
        "colab": {
          "base_uri": "https://localhost:8080/"
        },
        "id": "M7-ZmbD9ktiE",
        "outputId": "a3bcf805-c492-498a-800c-ad4026cb0aca"
      },
      "outputs": [
        {
          "name": "stdout",
          "output_type": "stream",
          "text": [
            "Requirement already satisfied: albumentations in /usr/local/lib/python3.11/dist-packages (2.0.6)\n",
            "Requirement already satisfied: opencv-python in /usr/local/lib/python3.11/dist-packages (4.11.0.86)\n",
            "Requirement already satisfied: tqdm in /usr/local/lib/python3.11/dist-packages (4.67.1)\n",
            "Requirement already satisfied: numpy>=1.24.4 in /usr/local/lib/python3.11/dist-packages (from albumentations) (2.0.2)\n",
            "Requirement already satisfied: scipy>=1.10.0 in /usr/local/lib/python3.11/dist-packages (from albumentations) (1.15.3)\n",
            "Requirement already satisfied: PyYAML in /usr/local/lib/python3.11/dist-packages (from albumentations) (6.0.2)\n",
            "Requirement already satisfied: pydantic>=2.9.2 in /usr/local/lib/python3.11/dist-packages (from albumentations) (2.11.4)\n",
            "Requirement already satisfied: albucore==0.0.24 in /usr/local/lib/python3.11/dist-packages (from albumentations) (0.0.24)\n",
            "Requirement already satisfied: opencv-python-headless>=4.9.0.80 in /usr/local/lib/python3.11/dist-packages (from albumentations) (4.11.0.86)\n",
            "Requirement already satisfied: stringzilla>=3.10.4 in /usr/local/lib/python3.11/dist-packages (from albucore==0.0.24->albumentations) (3.12.5)\n",
            "Requirement already satisfied: simsimd>=5.9.2 in /usr/local/lib/python3.11/dist-packages (from albucore==0.0.24->albumentations) (6.2.1)\n",
            "Requirement already satisfied: annotated-types>=0.6.0 in /usr/local/lib/python3.11/dist-packages (from pydantic>=2.9.2->albumentations) (0.7.0)\n",
            "Requirement already satisfied: pydantic-core==2.33.2 in /usr/local/lib/python3.11/dist-packages (from pydantic>=2.9.2->albumentations) (2.33.2)\n",
            "Requirement already satisfied: typing-extensions>=4.12.2 in /usr/local/lib/python3.11/dist-packages (from pydantic>=2.9.2->albumentations) (4.13.2)\n",
            "Requirement already satisfied: typing-inspection>=0.4.0 in /usr/local/lib/python3.11/dist-packages (from pydantic>=2.9.2->albumentations) (0.4.0)\n",
            "Mounted at /content/drive\n"
          ]
        }
      ],
      "source": [
        "!pip install albumentations opencv-python tqdm\n",
        "from google.colab import drive\n",
        "drive.mount('/content/drive')"
      ]
    },
    {
      "cell_type": "markdown",
      "metadata": {
        "id": "0pCjwcPX8qOr"
      },
      "source": [
        "## **2. Augmentation, Balancing, and ZIP**"
      ]
    },
    {
      "cell_type": "code",
      "execution_count": null,
      "metadata": {
        "colab": {
          "base_uri": "https://localhost:8080/"
        },
        "id": "7yMJ6sZA86AG",
        "outputId": "68add654-7540-4dee-f79a-1c93f5a8503b"
      },
      "outputs": [],
      "source": [
        "import os\n",
        "import cv2\n",
        "import random\n",
        "import albumentations as A\n",
        "from tqdm import tqdm\n",
        "import zipfile\n",
        "from collections import defaultdict\n",
        "\n",
        "# === CONFIG ===\n",
        "input_root = \"/content/drive/MyDrive/x/y\"     # Original dataset folder, adjust\n",
        "output_root = \"/content/augmented_dataset\"    # Output\n",
        "zip_path = \"/content/augmented_dataset.zip\"   # Final zip file location\n",
        "target_images_per_class = 500                 # Desired number of images per class\n",
        "image_size = 1280\n",
        "\n",
        "# === AUGMENTATION PIPELINE ===\n",
        "transform = A.Compose([\n",
        "    A.HorizontalFlip(p=0.5),\n",
        "    A.VerticalFlip(p=0.3),\n",
        "    A.RandomBrightnessContrast(brightness_limit=0.15, contrast_limit=0.15, p=0.3),\n",
        "    A.Rotate(limit=10, p=0.2),  # Light rotation ±10 degrees\n",
        "    A.GaussNoise(var_limit=(5.0, 15.0), p=0.1),  # Light noise\n",
        "    A.RandomScale(scale_limit=0.1, p=0.2),  # Light zoom in/out\n",
        "    A.ShiftScaleRotate(shift_limit=0.05, scale_limit=0.05, rotate_limit=5, p=0.2),\n",
        "    A.Resize(1280, 1280)\n",
        "])\n",
        "\n",
        "# === AUGMENTATION AND BALANCING PROCESS ===\n",
        "os.makedirs(output_root, exist_ok=True)\n",
        "\n",
        "for class_name in os.listdir(input_root):\n",
        "    class_input_path = os.path.join(input_root, class_name)\n",
        "    class_output_path = os.path.join(output_root, class_name)\n",
        "    os.makedirs(class_output_path, exist_ok=True)\n",
        "\n",
        "    # Take all the original pictures\n",
        "    image_files = [f for f in os.listdir(class_input_path) if f.lower().endswith(('.jpg', '.jpeg', '.png'))]\n",
        "    original_count = len(image_files)\n",
        "\n",
        "    print(f\"\\nClass '{class_name}': {original_count} ori img\")\n",
        "\n",
        "    # Copy all original images to the output folder\n",
        "    for f in image_files:\n",
        "        src = os.path.join(class_input_path, f)\n",
        "        dst = os.path.join(class_output_path, f)\n",
        "        if not os.path.exists(dst):\n",
        "            img = cv2.imread(src)\n",
        "            if img is not None:\n",
        "                cv2.imwrite(dst, img)\n",
        "\n",
        "    # Calculate how much additional augmentation is needed\n",
        "    need_aug = target_images_per_class - original_count\n",
        "    if need_aug <= 0:\n",
        "        print(f\"OK\")\n",
        "        continue\n",
        "\n",
        "    print(f\"Adding {need_aug} augmentation...\")\n",
        "\n",
        "    # Augmentation is performed from the original image available\n",
        "    for i in tqdm(range(need_aug), desc=f\"Augmenting {class_name}\"):\n",
        "        img_name = random.choice(image_files)\n",
        "        img_path = os.path.join(class_input_path, img_name)\n",
        "        image = cv2.imread(img_path)\n",
        "        if image is None:\n",
        "            continue\n",
        "        image = cv2.cvtColor(image, cv2.COLOR_BGR2RGB)\n",
        "        aug_image = transform(image=image)['image']\n",
        "        aug_image = cv2.cvtColor(aug_image, cv2.COLOR_RGB2BGR)\n",
        "        new_filename = f\"{os.path.splitext(img_name)[0]}_aug{i+1}.jpg\"\n",
        "        cv2.imwrite(os.path.join(class_output_path, new_filename), aug_image)\n",
        "\n",
        "# === ZIP ALL CLASS FOLDERS ===\n",
        "def zip_folder(folder_path, output_zip):\n",
        "    with zipfile.ZipFile(output_zip, 'w') as zipf:\n",
        "        for root, dirs, files in os.walk(folder_path):\n",
        "            for file in files:\n",
        "                file_path = os.path.join(root, file)\n",
        "                arcname = os.path.relpath(file_path, folder_path)\n",
        "                zipf.write(file_path, arcname)\n",
        "\n",
        "zip_folder(output_root, zip_path)\n",
        "print(f\"\\nZIP done: {zip_path}\")\n"
      ]
    }
  ],
  "metadata": {
    "colab": {
      "provenance": []
    },
    "kernelspec": {
      "display_name": "Python 3",
      "name": "python3"
    },
    "language_info": {
      "name": "python"
    }
  },
  "nbformat": 4,
  "nbformat_minor": 0
}
